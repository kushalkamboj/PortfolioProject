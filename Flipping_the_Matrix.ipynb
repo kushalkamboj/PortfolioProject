{
  "nbformat": 4,
  "nbformat_minor": 0,
  "metadata": {
    "colab": {
      "provenance": [],
      "authorship_tag": "ABX9TyNPK8MADX2N6S2ywQlJywZj",
      "include_colab_link": true
    },
    "kernelspec": {
      "name": "python3",
      "display_name": "Python 3"
    },
    "language_info": {
      "name": "python"
    }
  },
  "cells": [
    {
      "cell_type": "markdown",
      "metadata": {
        "id": "view-in-github",
        "colab_type": "text"
      },
      "source": [
        "<a href=\"https://colab.research.google.com/github/kushalkamboj/PortfolioProject/blob/main/Flipping_the_Matrix.ipynb\" target=\"_parent\"><img src=\"https://colab.research.google.com/assets/colab-badge.svg\" alt=\"Open In Colab\"/></a>"
      ]
    },
    {
      "cell_type": "markdown",
      "source": [
        "Pb : Sean invented a game involving a 2nx2n matrix where each cell of the matrix contains an integer. He can reverse any of its rows or columns any number of times. The goal of the game is to maximize the sum of the elements in the nxn submatrix located in the upper-left quadrant of the matrix.\n"
      ],
      "metadata": {
        "id": "IXiYiXLYxy3a"
      }
    },
    {
      "cell_type": "code",
      "source": [
        "matrix = [[112, 42, 83, 119], [56, 125, 56, 49], [15, 78, 101, 43], [62, 98, 114, 108]]"
      ],
      "metadata": {
        "id": "A_UB3acYhxew"
      },
      "execution_count": 1,
      "outputs": []
    },
    {
      "cell_type": "code",
      "source": [
        "n = len(matrix)//2\n",
        "a=0\n",
        "for i in range(n):\n",
        "  for j in range(n):\n",
        "    b =[ matrix[i][j], matrix[i][2*n-1-j],  matrix[2*n-1-i][j], matrix[2*n-1-i][2*n-1-j]]\n",
        "    a +=max(b)\n",
        "print(a) \n",
        "\n",
        "  \n"
      ],
      "metadata": {
        "colab": {
          "base_uri": "https://localhost:8080/"
        },
        "id": "hVNkJ8ZHp0Q-",
        "outputId": "6825f663-3412-4220-900a-7ffc90b5ebde"
      },
      "execution_count": 2,
      "outputs": [
        {
          "output_type": "stream",
          "name": "stdout",
          "text": [
            "414\n"
          ]
        }
      ]
    }
  ]
}