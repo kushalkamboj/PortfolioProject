{
  "nbformat": 4,
  "nbformat_minor": 0,
  "metadata": {
    "colab": {
      "provenance": [],
      "collapsed_sections": [],
      "authorship_tag": "ABX9TyOz30mkIYQeGGH2s7IbhTGB",
      "include_colab_link": true
    },
    "kernelspec": {
      "name": "python3",
      "display_name": "Python 3"
    },
    "language_info": {
      "name": "python"
    }
  },
  "cells": [
    {
      "cell_type": "markdown",
      "metadata": {
        "id": "view-in-github",
        "colab_type": "text"
      },
      "source": [
        "<a href=\"https://colab.research.google.com/github/kushalkamboj/PortfolioProject/blob/main/HackerRank.ipynb\" target=\"_parent\"><img src=\"https://colab.research.google.com/assets/colab-badge.svg\" alt=\"Open In Colab\"/></a>"
      ]
    },
    {
      "cell_type": "code",
      "execution_count": 33,
      "metadata": {
        "id": "BOhUHsNAQexr"
      },
      "outputs": [],
      "source": [
        "import math\n",
        "import os\n",
        "import random\n",
        "import re\n",
        "import sys\n",
        "\n",
        "#\n",
        "# Complete the 'miniMaxSum' function below.\n",
        "#\n",
        "# The function accepts INTEGER_ARRAY arr as parameter.\n",
        "#\n",
        "\n",
        "def miniMaxSum(arr):\n",
        "  numsum = 0;\n",
        "  max_sum = arr[0];\n",
        "  min_sum = arr[0];\n",
        "  for i in range(len(arr)):\n",
        "    numsum=numsum+arr[i]\n",
        "    if arr[i]>max_sum:\n",
        "      max_sum = arr[i]\n",
        "    elif arr[i]<min_sum:\n",
        "      min_sum = arr[i]\n",
        "  print(str(numsum-max_sum)+ \" \" + str(numsum-min_sum))  "
      ]
    },
    {
      "cell_type": "code",
      "source": [
        "if __name__ == '__main__':\n",
        "\n",
        "    arr = list(map(int, input().rstrip().split()))\n",
        "\n",
        "    miniMaxSum(arr)"
      ],
      "metadata": {
        "colab": {
          "base_uri": "https://localhost:8080/"
        },
        "id": "qHpuUfs_YtDF",
        "outputId": "ee889f15-da7e-4c60-f53c-88a4f307dfca"
      },
      "execution_count": 30,
      "outputs": [
        {
          "output_type": "stream",
          "name": "stdout",
          "text": [
            "5 7 3 8 0\n",
            "15 23\n"
          ]
        }
      ]
    },
    {
      "cell_type": "code",
      "source": [
        "# 2 Pb : Given a time in 12-hour AM/PM format, convert it to military (24-hour) time."
      ],
      "metadata": {
        "id": "mBABrtbneOmz"
      },
      "execution_count": null,
      "outputs": []
    },
    {
      "cell_type": "code",
      "source": [
        "def timeConversion(s):\n",
        "    if s[-2:] == 'AM' and s[:2] == '12':\n",
        "        return '00' + s[2:-2]\n",
        "    \n",
        "    elif s[-2:] == 'AM':\n",
        "        return s[:-2]\n",
        "        \n",
        "    elif s[-2:] == 'PM' and s[:2] == '12':\n",
        "        return s[:-2]\n",
        "        \n",
        "    else:\n",
        "        return str(int(s[:2])+12)+s[2:8]"
      ],
      "metadata": {
        "id": "5P2SO1ISeXv3"
      },
      "execution_count": 31,
      "outputs": []
    },
    {
      "cell_type": "code",
      "source": [
        "print(timeConversion(\"08:05:45 PM\"))"
      ],
      "metadata": {
        "colab": {
          "base_uri": "https://localhost:8080/"
        },
        "id": "xUtS6tg6efi9",
        "outputId": "43cad0b6-36eb-4204-a0ea-d16387ea98b6"
      },
      "execution_count": 35,
      "outputs": [
        {
          "output_type": "stream",
          "name": "stdout",
          "text": [
            "20:05:45\n"
          ]
        }
      ]
    }
  ]
}