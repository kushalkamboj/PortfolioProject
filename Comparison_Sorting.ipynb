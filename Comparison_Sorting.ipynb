{
  "nbformat": 4,
  "nbformat_minor": 0,
  "metadata": {
    "colab": {
      "provenance": [],
      "collapsed_sections": [],
      "authorship_tag": "ABX9TyM1cPrl6KXwzXO78fO1QRKY",
      "include_colab_link": true
    },
    "kernelspec": {
      "name": "python3",
      "display_name": "Python 3"
    },
    "language_info": {
      "name": "python"
    }
  },
  "cells": [
    {
      "cell_type": "markdown",
      "metadata": {
        "id": "view-in-github",
        "colab_type": "text"
      },
      "source": [
        "<a href=\"https://colab.research.google.com/github/kushalkamboj/PortfolioProject/blob/main/Comparison_Sorting.ipynb\" target=\"_parent\"><img src=\"https://colab.research.google.com/assets/colab-badge.svg\" alt=\"Open In Colab\"/></a>"
      ]
    },
    {
      "cell_type": "code",
      "source": [
        "Quicksort usually has a running time of n x log(n) , but is there an algorithm that can sort even faster? In general, \n",
        "this is not possible. Most sorting algorithms are comparison sorts, i.e. they sort a list just by comparing the elements to one another.\n",
        " A comparison sort algorithm cannot beat n x log(n) (worst-case) running time, since n x log(n) represents the minimum \n",
        " number of comparisons needed to know where to place each element."
      ],
      "metadata": {
        "id": "tC6_NdU5Uyty"
      },
      "execution_count": null,
      "outputs": []
    },
    {
      "cell_type": "markdown",
      "source": [],
      "metadata": {
        "id": "rUcxhiMCUzGg"
      }
    },
    {
      "cell_type": "code",
      "source": [
        "\n",
        "arr = list(map(int, input().rstrip().split()))\n",
        "\n"
      ],
      "metadata": {
        "colab": {
          "base_uri": "https://localhost:8080/"
        },
        "id": "QnRGxXP2wOv1",
        "outputId": "e53f95a1-7832-4b97-a421-a6ba5309d49a"
      },
      "execution_count": null,
      "outputs": [
        {
          "name": "stdout",
          "output_type": "stream",
          "text": [
            "63 54 17 78 43 70 32 97 16 94 74 18 60 61 35 83 13 56 75 52 70 12 24 37 17 0 16 64 34 81 82 24 69 2 30 61 83 37 97 16 70 53 0 61 12 17 97 67 33 30 49 70 11 40 67 94 84 60 35 58 19 81 16 14 68 46 42 81 75 87 13 84 33 34 14 96 7 59 17 98 79 47 71 75 8 27 73 66 64 12 29 35 80 78 80 6 5 24 49 82\n"
          ]
        }
      ]
    },
    {
      "cell_type": "code",
      "source": [
        "arr_zero = [0]*100\n",
        "for i in arr:\n",
        "  arr_zero[i]+=1;\n",
        "print(arr_zero)\n",
        "\n",
        " "
      ],
      "metadata": {
        "colab": {
          "base_uri": "https://localhost:8080/"
        },
        "id": "88VR-3tH1Tty",
        "outputId": "05790fa1-fe16-4e3d-c61c-d4d4119bbdec"
      },
      "execution_count": null,
      "outputs": [
        {
          "output_type": "stream",
          "name": "stdout",
          "text": [
            "[2, 0, 1, 0, 0, 1, 1, 1, 1, 0, 0, 1, 3, 2, 2, 0, 4, 4, 1, 1, 0, 0, 0, 0, 3, 0, 0, 1, 0, 1, 2, 0, 1, 2, 2, 3, 0, 2, 0, 0, 1, 0, 1, 1, 0, 0, 1, 1, 0, 2, 0, 0, 1, 1, 1, 0, 1, 0, 1, 1, 2, 3, 0, 1, 2, 0, 1, 2, 1, 1, 4, 1, 0, 1, 1, 3, 0, 0, 2, 1, 2, 3, 2, 2, 2, 0, 0, 1, 0, 0, 0, 0, 0, 0, 2, 0, 1, 3, 1, 0]\n"
          ]
        }
      ]
    },
    {
      "cell_type": "code",
      "source": [
        "x=[];\n",
        "y=[];\n",
        "for index, value in enumerate(arr_zero):\n",
        "  if index!=0 and value!=0:\n",
        "    x=[index]*value;\n",
        "    y.append(x);\n",
        "    sorted = [subvalue  for value in y  for subvalue in value] \n",
        "print(sorted)\n",
        "\n",
        "\n",
        "\n",
        "\n",
        "\n"
      ],
      "metadata": {
        "colab": {
          "base_uri": "https://localhost:8080/"
        },
        "id": "XsC6dXiJ7Kn8",
        "outputId": "2aa94793-c40e-4ab7-a6ab-db8aef2fa31b"
      },
      "execution_count": null,
      "outputs": [
        {
          "output_type": "stream",
          "name": "stdout",
          "text": [
            "[2, 5, 6, 7, 8, 11, 12, 12, 12, 13, 13, 14, 14, 16, 16, 16, 16, 17, 17, 17, 17, 18, 19, 24, 24, 24, 27, 29, 30, 30, 32, 33, 33, 34, 34, 35, 35, 35, 37, 37, 40, 42, 43, 46, 47, 49, 49, 52, 53, 54, 56, 58, 59, 60, 60, 61, 61, 61, 63, 64, 64, 66, 67, 67, 68, 69, 70, 70, 70, 70, 71, 73, 74, 75, 75, 75, 78, 78, 79, 80, 80, 81, 81, 81, 82, 82, 83, 83, 84, 84, 87, 94, 94, 96, 97, 97, 97, 98]\n"
          ]
        }
      ]
    }
  ]
}